{
 "cells": [
  {
   "cell_type": "code",
   "execution_count": 37,
   "metadata": {},
   "outputs": [],
   "source": [
    "import os\n",
    "import pandas as pd\n",
    "import matplotlib\n",
    "import matplotlib.pyplot as plt\n",
    "import numpy as np\n",
    "data_file = os.path.join(\"clean_df.csv\")\n",
    "raw_data = pd.read_csv(data_file)\n",
    "raw_data.drop(columns=\"Unnamed: 0\", inplace=True)"
   ]
  },
  {
   "cell_type": "code",
   "execution_count": 48,
   "metadata": {},
   "outputs": [],
   "source": [
    "# Filter out true values for all teams except for blackhawks\n",
    "team_filter = raw_data[(raw_data[\"Bulls\"] == False)&(raw_data[\"Cubs\"] == False)&\n",
    "                    (raw_data[\"Bears\"] == False)&(raw_data[\"White Sox\"] == False)]\n",
    "\n",
    "# Filter CTA stations by stations near the United Center\n",
    "ashland_stop = team_filter.loc[team_filter[\"station_id\"]== 40170]\n",
    "il_med_dist_stop = team_filter.loc[team_filter[\"station_id\"]== 40810]\n",
    "uc_stations_data = ashland_stop.append(il_med_dist_stop)"
   ]
  },
  {
   "cell_type": "code",
   "execution_count": 13,
   "metadata": {
    "scrolled": true
   },
   "outputs": [
    {
     "data": {
      "text/html": [
       "<div>\n",
       "<style scoped>\n",
       "    .dataframe tbody tr th:only-of-type {\n",
       "        vertical-align: middle;\n",
       "    }\n",
       "\n",
       "    .dataframe tbody tr th {\n",
       "        vertical-align: top;\n",
       "    }\n",
       "\n",
       "    .dataframe thead th {\n",
       "        text-align: right;\n",
       "    }\n",
       "</style>\n",
       "<table border=\"1\" class=\"dataframe\">\n",
       "  <thead>\n",
       "    <tr style=\"text-align: right;\">\n",
       "      <th></th>\n",
       "      <th>rides</th>\n",
       "    </tr>\n",
       "    <tr>\n",
       "      <th>daytype</th>\n",
       "      <th></th>\n",
       "    </tr>\n",
       "  </thead>\n",
       "  <tbody>\n",
       "    <tr>\n",
       "      <th>A</th>\n",
       "      <td>769.358209</td>\n",
       "    </tr>\n",
       "    <tr>\n",
       "      <th>U</th>\n",
       "      <td>518.897436</td>\n",
       "    </tr>\n",
       "    <tr>\n",
       "      <th>W</th>\n",
       "      <td>1960.217290</td>\n",
       "    </tr>\n",
       "  </tbody>\n",
       "</table>\n",
       "</div>"
      ],
      "text/plain": [
       "               rides\n",
       "daytype             \n",
       "A         769.358209\n",
       "U         518.897436\n",
       "W        1960.217290"
      ]
     },
     "execution_count": 13,
     "metadata": {},
     "output_type": "execute_result"
    }
   ],
   "source": [
    "# Ridership on non-game days\n",
    "no_game_filter = uc_stations_data[uc_stations_data[\"Blackhawks\"]==False]\n",
    "no_game_group = no_game_filter.groupby([\"daytype\",])\n",
    "no_games_avg = no_game_group[[\"daytype\",\"rides\"]].agg(\"mean\")\n",
    "no_games_avg"
   ]
  },
  {
   "cell_type": "code",
   "execution_count": 15,
   "metadata": {},
   "outputs": [
    {
     "data": {
      "text/html": [
       "<div>\n",
       "<style scoped>\n",
       "    .dataframe tbody tr th:only-of-type {\n",
       "        vertical-align: middle;\n",
       "    }\n",
       "\n",
       "    .dataframe tbody tr th {\n",
       "        vertical-align: top;\n",
       "    }\n",
       "\n",
       "    .dataframe thead th {\n",
       "        text-align: right;\n",
       "    }\n",
       "</style>\n",
       "<table border=\"1\" class=\"dataframe\">\n",
       "  <thead>\n",
       "    <tr style=\"text-align: right;\">\n",
       "      <th></th>\n",
       "      <th>rides</th>\n",
       "    </tr>\n",
       "    <tr>\n",
       "      <th>daytype</th>\n",
       "      <th></th>\n",
       "    </tr>\n",
       "  </thead>\n",
       "  <tbody>\n",
       "    <tr>\n",
       "      <th>A</th>\n",
       "      <td>1134.583333</td>\n",
       "    </tr>\n",
       "    <tr>\n",
       "      <th>U</th>\n",
       "      <td>722.352941</td>\n",
       "    </tr>\n",
       "    <tr>\n",
       "      <th>W</th>\n",
       "      <td>2642.028846</td>\n",
       "    </tr>\n",
       "  </tbody>\n",
       "</table>\n",
       "</div>"
      ],
      "text/plain": [
       "               rides\n",
       "daytype             \n",
       "A        1134.583333\n",
       "U         722.352941\n",
       "W        2642.028846"
      ]
     },
     "execution_count": 15,
     "metadata": {},
     "output_type": "execute_result"
    }
   ],
   "source": [
    "games_uc = uc_stations_data[uc_stations_data[\"Blackhawks\"]==True]\n",
    "games_group = games_uc.groupby([\"daytype\"])\n",
    "games_avg = games_group[[\"daytype\",\"rides\"]].agg(\"mean\")\n",
    "games_avg"
   ]
  },
  {
   "cell_type": "code",
   "execution_count": 47,
   "metadata": {},
   "outputs": [
    {
     "data": {
      "image/png": "[encoded data removed]",
      "text/plain": [
       "<Figure size 432x288 with 1 Axes>"
      ]
     },
     "metadata": {
      "needs_background": "light"
     },
     "output_type": "display_data"
    }
   ],
   "source": [
    "# Had help from code found in this video https://www.youtube.com/watch?v=ZjQCPMO7LBE\n",
    "w = 0.4\n",
    "x = no_games_avg.index\n",
    "labels = [\"Saturday\", \"Sunday/Holiday\", \"Weekday\"]\n",
    "bar1 = np.arange(len(x))\n",
    "bar2 = [i+w for i in bar1]\n",
    "\n",
    "plt.bar(bar1,no_games_avg[\"rides\"],w,label=\"No Game\")\n",
    "plt.bar(bar2,games_avg[\"rides\"],w,label=\"Game\")\n",
    "plt.xticks(bar1+w/2,labels)\n",
    "\n",
    "# labels\n",
    "plt.title(\"Average Ridership @ United Center\")\n",
    "plt.ylabel(\"Average Ridership\")\n",
    "plt.xlabel(\"Weekday type\", labelpad=10)\n",
    "plt.ylim(0,3000)\n",
    "plt.legend()\n",
    "plt.show()"
   ]
  },
  {
   "cell_type": "code",
   "execution_count": null,
   "metadata": {},
   "outputs": [],
   "source": []
  }
 ],
 "metadata": {
  "kernelspec": {
   "display_name": "PythonEnv",
   "language": "python",
   "name": "pythonenv"
  },
  "language_info": {
   "codemirror_mode": {
    "name": "ipython",
    "version": 3
   },
   "file_extension": ".py",
   "mimetype": "text/x-python",
   "name": "python",
   "nbconvert_exporter": "python",
   "pygments_lexer": "ipython3",
   "version": "3.8.5"
  }
 },
 "nbformat": 4,
 "nbformat_minor": 4
}
