{
 "cells": [
  {
   "cell_type": "code",
   "execution_count": 1,
   "metadata": {},
   "outputs": [],
   "source": [
    "import os\n",
    "import pandas as pd\n",
    "import matplotlib\n",
    "import matplotlib.pyplot as plt\n",
    "import numpy as np\n",
    "import scipy.stats as stats\n",
    "\n",
    "data_file = os.path.join(\"clean_df.csv\")\n",
    "raw_data = pd.read_csv(data_file)\n",
    "raw_data.drop(columns=\"Unnamed: 0\", inplace=True)"
   ]
  },
  {
   "cell_type": "markdown",
   "metadata": {},
   "source": [
    "## Filter data for United Center stations"
   ]
  },
  {
   "cell_type": "code",
   "execution_count": 2,
   "metadata": {},
   "outputs": [
    {
     "data": {
      "text/html": [
       "<div>\n",
       "<style scoped>\n",
       "    .dataframe tbody tr th:only-of-type {\n",
       "        vertical-align: middle;\n",
       "    }\n",
       "\n",
       "    .dataframe tbody tr th {\n",
       "        vertical-align: top;\n",
       "    }\n",
       "\n",
       "    .dataframe thead th {\n",
       "        text-align: right;\n",
       "    }\n",
       "</style>\n",
       "<table border=\"1\" class=\"dataframe\">\n",
       "  <thead>\n",
       "    <tr style=\"text-align: right;\">\n",
       "      <th></th>\n",
       "      <th>station_id</th>\n",
       "      <th>stationname</th>\n",
       "      <th>date</th>\n",
       "      <th>daytype</th>\n",
       "      <th>rides</th>\n",
       "      <th>Blackhawks</th>\n",
       "      <th>Cubs</th>\n",
       "      <th>Bulls</th>\n",
       "      <th>Bears</th>\n",
       "      <th>White Sox</th>\n",
       "    </tr>\n",
       "  </thead>\n",
       "  <tbody>\n",
       "    <tr>\n",
       "      <th>199</th>\n",
       "      <td>40170</td>\n",
       "      <td>Ashland-Lake</td>\n",
       "      <td>2017-12-01</td>\n",
       "      <td>W</td>\n",
       "      <td>2568</td>\n",
       "      <td>False</td>\n",
       "      <td>False</td>\n",
       "      <td>True</td>\n",
       "      <td>False</td>\n",
       "      <td>False</td>\n",
       "    </tr>\n",
       "    <tr>\n",
       "      <th>290</th>\n",
       "      <td>40170</td>\n",
       "      <td>Ashland-Lake</td>\n",
       "      <td>2017-12-28</td>\n",
       "      <td>W</td>\n",
       "      <td>1457</td>\n",
       "      <td>False</td>\n",
       "      <td>False</td>\n",
       "      <td>False</td>\n",
       "      <td>False</td>\n",
       "      <td>False</td>\n",
       "    </tr>\n",
       "    <tr>\n",
       "      <th>472</th>\n",
       "      <td>40170</td>\n",
       "      <td>Ashland-Lake</td>\n",
       "      <td>2017-12-29</td>\n",
       "      <td>W</td>\n",
       "      <td>1547</td>\n",
       "      <td>False</td>\n",
       "      <td>False</td>\n",
       "      <td>True</td>\n",
       "      <td>False</td>\n",
       "      <td>False</td>\n",
       "    </tr>\n",
       "    <tr>\n",
       "      <th>706</th>\n",
       "      <td>40170</td>\n",
       "      <td>Ashland-Lake</td>\n",
       "      <td>2017-12-07</td>\n",
       "      <td>W</td>\n",
       "      <td>2382</td>\n",
       "      <td>False</td>\n",
       "      <td>False</td>\n",
       "      <td>False</td>\n",
       "      <td>False</td>\n",
       "      <td>False</td>\n",
       "    </tr>\n",
       "    <tr>\n",
       "      <th>946</th>\n",
       "      <td>40170</td>\n",
       "      <td>Ashland-Lake</td>\n",
       "      <td>2017-12-09</td>\n",
       "      <td>A</td>\n",
       "      <td>1164</td>\n",
       "      <td>False</td>\n",
       "      <td>False</td>\n",
       "      <td>True</td>\n",
       "      <td>False</td>\n",
       "      <td>False</td>\n",
       "    </tr>\n",
       "    <tr>\n",
       "      <th>...</th>\n",
       "      <td>...</td>\n",
       "      <td>...</td>\n",
       "      <td>...</td>\n",
       "      <td>...</td>\n",
       "      <td>...</td>\n",
       "      <td>...</td>\n",
       "      <td>...</td>\n",
       "      <td>...</td>\n",
       "      <td>...</td>\n",
       "      <td>...</td>\n",
       "    </tr>\n",
       "    <tr>\n",
       "      <th>194637</th>\n",
       "      <td>40810</td>\n",
       "      <td>Medical Center</td>\n",
       "      <td>2020-09-26</td>\n",
       "      <td>A</td>\n",
       "      <td>413</td>\n",
       "      <td>False</td>\n",
       "      <td>False</td>\n",
       "      <td>False</td>\n",
       "      <td>False</td>\n",
       "      <td>False</td>\n",
       "    </tr>\n",
       "    <tr>\n",
       "      <th>194638</th>\n",
       "      <td>40810</td>\n",
       "      <td>Medical Center</td>\n",
       "      <td>2020-09-27</td>\n",
       "      <td>U</td>\n",
       "      <td>279</td>\n",
       "      <td>False</td>\n",
       "      <td>False</td>\n",
       "      <td>False</td>\n",
       "      <td>False</td>\n",
       "      <td>False</td>\n",
       "    </tr>\n",
       "    <tr>\n",
       "      <th>194639</th>\n",
       "      <td>40810</td>\n",
       "      <td>Medical Center</td>\n",
       "      <td>2020-09-28</td>\n",
       "      <td>W</td>\n",
       "      <td>842</td>\n",
       "      <td>False</td>\n",
       "      <td>False</td>\n",
       "      <td>False</td>\n",
       "      <td>False</td>\n",
       "      <td>False</td>\n",
       "    </tr>\n",
       "    <tr>\n",
       "      <th>194640</th>\n",
       "      <td>40810</td>\n",
       "      <td>Medical Center</td>\n",
       "      <td>2020-09-29</td>\n",
       "      <td>W</td>\n",
       "      <td>862</td>\n",
       "      <td>False</td>\n",
       "      <td>False</td>\n",
       "      <td>False</td>\n",
       "      <td>False</td>\n",
       "      <td>False</td>\n",
       "    </tr>\n",
       "    <tr>\n",
       "      <th>194641</th>\n",
       "      <td>40810</td>\n",
       "      <td>Medical Center</td>\n",
       "      <td>2020-09-30</td>\n",
       "      <td>W</td>\n",
       "      <td>811</td>\n",
       "      <td>False</td>\n",
       "      <td>True</td>\n",
       "      <td>False</td>\n",
       "      <td>False</td>\n",
       "      <td>False</td>\n",
       "    </tr>\n",
       "  </tbody>\n",
       "</table>\n",
       "<p>2738 rows × 10 columns</p>\n",
       "</div>"
      ],
      "text/plain": [
       "        station_id     stationname        date daytype  rides  Blackhawks  \\\n",
       "199          40170    Ashland-Lake  2017-12-01       W   2568       False   \n",
       "290          40170    Ashland-Lake  2017-12-28       W   1457       False   \n",
       "472          40170    Ashland-Lake  2017-12-29       W   1547       False   \n",
       "706          40170    Ashland-Lake  2017-12-07       W   2382       False   \n",
       "946          40170    Ashland-Lake  2017-12-09       A   1164       False   \n",
       "...            ...             ...         ...     ...    ...         ...   \n",
       "194637       40810  Medical Center  2020-09-26       A    413       False   \n",
       "194638       40810  Medical Center  2020-09-27       U    279       False   \n",
       "194639       40810  Medical Center  2020-09-28       W    842       False   \n",
       "194640       40810  Medical Center  2020-09-29       W    862       False   \n",
       "194641       40810  Medical Center  2020-09-30       W    811       False   \n",
       "\n",
       "         Cubs  Bulls  Bears  White Sox  \n",
       "199     False   True  False      False  \n",
       "290     False  False  False      False  \n",
       "472     False   True  False      False  \n",
       "706     False  False  False      False  \n",
       "946     False   True  False      False  \n",
       "...       ...    ...    ...        ...  \n",
       "194637  False  False  False      False  \n",
       "194638  False  False  False      False  \n",
       "194639  False  False  False      False  \n",
       "194640  False  False  False      False  \n",
       "194641   True  False  False      False  \n",
       "\n",
       "[2738 rows x 10 columns]"
      ]
     },
     "execution_count": 2,
     "metadata": {},
     "output_type": "execute_result"
    }
   ],
   "source": [
    "# Filter CTA stations by stations near the United Center\n",
    "ashland_stop = raw_data.loc[raw_data[\"station_id\"]== 40170]\n",
    "il_med_dist_stop = raw_data.loc[raw_data[\"station_id\"]== 40810]\n",
    "uc_stations_data = ashland_stop.append(il_med_dist_stop)\n",
    "uc_stations_data"
   ]
  },
  {
   "cell_type": "markdown",
   "metadata": {},
   "source": [
    "## Generate dataframes to calculate means: baseline, blackhawks & bulls ridership"
   ]
  },
  {
   "cell_type": "code",
   "execution_count": null,
   "metadata": {},
   "outputs": [],
   "source": [
    "# Average ridership on non-game days\n",
    "no_game_filter = uc_stations_data[(uc_stations_data[\"Blackhawks\"]==False)&\n",
    "                                  (uc_stations_data[\"Bulls\"]==False)]\n",
    "no_game_group = no_game_filter.groupby([\"daytype\",])\n",
    "no_games_avg = no_game_group[[\"daytype\",\"rides\"]].agg([\"count\",\"mean\"])\n",
    "no_games_avg.columns = no_games_avg.columns.get_level_values(1)\n",
    "no_games_avg.rename(columns = {\"mean\":\"No Game Avg Rides\"}, inplace=True)\n",
    "no_games_avg"
   ]
  },
  {
   "cell_type": "code",
   "execution_count": 4,
   "metadata": {
    "scrolled": false
   },
   "outputs": [
    {
     "data": {
      "text/html": [
       "<div>\n",
       "<style scoped>\n",
       "    .dataframe tbody tr th:only-of-type {\n",
       "        vertical-align: middle;\n",
       "    }\n",
       "\n",
       "    .dataframe tbody tr th {\n",
       "        vertical-align: top;\n",
       "    }\n",
       "\n",
       "    .dataframe thead th {\n",
       "        text-align: right;\n",
       "    }\n",
       "</style>\n",
       "<table border=\"1\" class=\"dataframe\">\n",
       "  <thead>\n",
       "    <tr style=\"text-align: right;\">\n",
       "      <th></th>\n",
       "      <th>count</th>\n",
       "      <th>Blackhawks Avg Rides</th>\n",
       "    </tr>\n",
       "    <tr>\n",
       "      <th>daytype</th>\n",
       "      <th></th>\n",
       "      <th></th>\n",
       "    </tr>\n",
       "  </thead>\n",
       "  <tbody>\n",
       "    <tr>\n",
       "      <th>A</th>\n",
       "      <td>18</td>\n",
       "      <td>1081.555556</td>\n",
       "    </tr>\n",
       "    <tr>\n",
       "      <th>U</th>\n",
       "      <td>62</td>\n",
       "      <td>755.354839</td>\n",
       "    </tr>\n",
       "    <tr>\n",
       "      <th>W</th>\n",
       "      <td>152</td>\n",
       "      <td>2586.098684</td>\n",
       "    </tr>\n",
       "  </tbody>\n",
       "</table>\n",
       "</div>"
      ],
      "text/plain": [
       "         count  Blackhawks Avg Rides\n",
       "daytype                             \n",
       "A           18           1081.555556\n",
       "U           62            755.354839\n",
       "W          152           2586.098684"
      ]
     },
     "execution_count": 4,
     "metadata": {},
     "output_type": "execute_result"
    }
   ],
   "source": [
    "# Average ridership on blackhawks game days\n",
    "hawks_games = uc_stations_data[(uc_stations_data[\"Blackhawks\"]==True)]\n",
    "hawks_daytype_group = hawks_games.groupby([\"daytype\"])\n",
    "hawks_daytype_avg = hawks_daytype_group[[\"daytype\",\"rides\"]].agg([\"count\",\"mean\"])\n",
    "hawks_daytype_avg.columns = hawks_daytype_avg.columns.get_level_values(1)\n",
    "hawks_daytype_avg.rename(columns = {\"mean\":\"Blackhawks Avg Rides\"}, inplace=True)\n",
    "hawks_daytype_avg"
   ]
  },
  {
   "cell_type": "code",
   "execution_count": 5,
   "metadata": {},
   "outputs": [
    {
     "data": {
      "text/html": [
       "<div>\n",
       "<style scoped>\n",
       "    .dataframe tbody tr th:only-of-type {\n",
       "        vertical-align: middle;\n",
       "    }\n",
       "\n",
       "    .dataframe tbody tr th {\n",
       "        vertical-align: top;\n",
       "    }\n",
       "\n",
       "    .dataframe thead th {\n",
       "        text-align: right;\n",
       "    }\n",
       "</style>\n",
       "<table border=\"1\" class=\"dataframe\">\n",
       "  <thead>\n",
       "    <tr style=\"text-align: right;\">\n",
       "      <th></th>\n",
       "      <th>count</th>\n",
       "      <th>Bulls Avg Rides</th>\n",
       "    </tr>\n",
       "    <tr>\n",
       "      <th>daytype</th>\n",
       "      <th></th>\n",
       "      <th></th>\n",
       "    </tr>\n",
       "  </thead>\n",
       "  <tbody>\n",
       "    <tr>\n",
       "      <th>A</th>\n",
       "      <td>90</td>\n",
       "      <td>1131.544444</td>\n",
       "    </tr>\n",
       "    <tr>\n",
       "      <th>U</th>\n",
       "      <td>40</td>\n",
       "      <td>678.575000</td>\n",
       "    </tr>\n",
       "    <tr>\n",
       "      <th>W</th>\n",
       "      <td>328</td>\n",
       "      <td>2463.451220</td>\n",
       "    </tr>\n",
       "  </tbody>\n",
       "</table>\n",
       "</div>"
      ],
      "text/plain": [
       "         count  Bulls Avg Rides\n",
       "daytype                        \n",
       "A           90      1131.544444\n",
       "U           40       678.575000\n",
       "W          328      2463.451220"
      ]
     },
     "execution_count": 5,
     "metadata": {},
     "output_type": "execute_result"
    }
   ],
   "source": [
    "# Average ridership on bulls game days\n",
    "bulls_games = uc_stations_data[uc_stations_data[\"Bulls\"]==True]\n",
    "bulls_daytype_group = bulls_games.groupby([\"daytype\"])\n",
    "bulls_daytype_avg = bulls_daytype_group[[\"daytype\",\"rides\"]].agg([\"count\",\"mean\"])\n",
    "bulls_daytype_avg.columns = bulls_daytype_avg.columns.get_level_values(1)\n",
    "bulls_daytype_avg.rename(columns = {\"mean\": \"Bulls Avg Rides\"}, inplace=True)\n",
    "bulls_daytype_avg"
   ]
  },
  {
   "cell_type": "markdown",
   "metadata": {},
   "source": [
    "## Bar Charts\n",
    "* Explore Blackhawks v Bulls data against baseline CTA data"
   ]
  },
  {
   "cell_type": "code",
   "execution_count": 6,
   "metadata": {
    "scrolled": false
   },
   "outputs": [
    {
     "data": {
      "image/png": "[encoded data removed]",
      "text/plain": [
       "<Figure size 432x288 with 1 Axes>"
      ]
     },
     "metadata": {
      "needs_background": "light"
     },
     "output_type": "display_data"
    }
   ],
   "source": [
    "# Had help from code found in this video https://www.youtube.com/watch?v=ZjQCPMO7LBE\n",
    "# Add team data to generate bar chart\n",
    "team1_df = round(no_games_avg[\"No Game Avg Rides\"],0).astype(int)\n",
    "team2_df = round(hawks_daytype_avg[\"Blackhawks Avg Rides\"],0).astype(int)\n",
    "team1_label = \"No Game\"\n",
    "team2_label = \"Game\"\n",
    "\n",
    "# Generate bar chart\n",
    "width = 0.4\n",
    "labels = [\"Saturday\", \"Sunday/Holiday\", \"Weekday\"]\n",
    "x = np.arange(len(labels))\n",
    "fig, ax = plt.subplots()\n",
    "rects1 = ax.bar(x - width/2,team1_df, width, label=team1_label)\n",
    "rects2 = ax.bar(x + width/2,team2_df, width, label=team2_label, color = \"black\")\n",
    "ax.set_xticks(x)\n",
    "ax.set_xticklabels(labels)\n",
    "\n",
    "# Bar values\n",
    "def autolabel(rects):\n",
    "    \"\"\"Attach a text label above each bar in *rects*, displaying its height.\"\"\"\n",
    "    for rect in rects:\n",
    "        height = rect.get_height()\n",
    "        ax.annotate('{}'.format(height),\n",
    "                    xy=(rect.get_x() + rect.get_width() / 2, height),\n",
    "                    xytext=(0, 3),  # 3 points vertical offset\n",
    "                    textcoords=\"offset points\",\n",
    "                    ha='center', va='bottom')\n",
    "autolabel(rects1)\n",
    "autolabel(rects2)\n",
    "# labels\n",
    "plt.title(\"Average CTA Ridership by Daytype: Blackhawks Games\")\n",
    "plt.ylabel(\"Average Ridership\")\n",
    "plt.xlabel(\"Daytype\", labelpad=10)\n",
    "plt.ylim(0,3000)\n",
    "plt.legend()\n",
    "plt.show()"
   ]
  },
  {
   "cell_type": "code",
   "execution_count": 22,
   "metadata": {
    "scrolled": true
   },
   "outputs": [
    {
     "data": {
      "image/png": "[encoded data removed]",
      "text/plain": [
       "<Figure size 432x288 with 1 Axes>"
      ]
     },
     "metadata": {
      "needs_background": "light"
     },
     "output_type": "display_data"
    }
   ],
   "source": [
    "# Had help from code found in this video https://www.youtube.com/watch?v=ZjQCPMO7LBE\n",
    "# Add team data to generate bar chart\n",
    "team1_df = round(no_games_avg[\"No Game Avg Rides\"],0).astype(int)\n",
    "team2_df = round(bulls_daytype_avg[\"Bulls Avg Rides\"]).astype(int)\n",
    "team1_label = \"No Game\"\n",
    "team2_label = \"Game\"\n",
    "\n",
    "# Generate bar chart\n",
    "width = 0.4\n",
    "labels = [\"Saturday\", \"Sunday/Holiday\", \"Weekday\"]\n",
    "x = np.arange(len(labels)) \n",
    "fig, ax = plt.subplots()\n",
    "rects1 = ax.bar(x - width/2,team1_df,width,label=team1_label)\n",
    "rects2 = ax.bar(x + width/2,team2_df,width,label=team2_label, color=\"red\")\n",
    "ax.set_xticks(x)\n",
    "ax.set_xticklabels(labels)\n",
    "\n",
    "# Bar values\n",
    "def autolabel(rects):\n",
    "    \"\"\"Attach a text label above each bar in *rects*, displaying its height.\"\"\"\n",
    "    for rect in rects:\n",
    "        height = rect.get_height()\n",
    "        ax.annotate('{}'.format(height),\n",
    "                    xy=(rect.get_x() + rect.get_width() / 2, height),\n",
    "                    xytext=(0, 3),  # 3 points vertical offset\n",
    "                    textcoords=\"offset points\",\n",
    "                    ha='center', va='bottom')\n",
    "autolabel(rects1)\n",
    "autolabel(rects2)\n",
    "\n",
    "# labels\n",
    "plt.title(\"Average CTA Ridership by Daytype: Bulls Games\")\n",
    "plt.ylabel(\"Average Ridership\")\n",
    "plt.xlabel(\"Daytype\", labelpad=10)\n",
    "plt.ylim(0,3000)\n",
    "plt.legend(loc = 2)\n",
    "plt.show()"
   ]
  },
  {
   "cell_type": "code",
   "execution_count": 29,
   "metadata": {},
   "outputs": [
    {
     "data": {
      "image/png": "[encoded data removed]",
      "text/plain": [
       "<Figure size 432x288 with 1 Axes>"
      ]
     },
     "metadata": {
      "needs_background": "light"
     },
     "output_type": "display_data"
    }
   ],
   "source": [
    "# Had help from code found in this video https://www.youtube.com/watch?v=ZjQCPMO7LBE\n",
    "# Add team data to generate bar chart\n",
    "team1_df = round(hawks_daytype_avg[\"Blackhawks Avg Rides\"]).astype(int)\n",
    "team2_df = round(bulls_daytype_avg[\"Bulls Avg Rides\"]).astype(int)\n",
    "team1_name = \"Blackhawks\"\n",
    "team2_name = \"Bulls\"\n",
    "\n",
    "# Generate bar chart\n",
    "labels = [\"Saturday\", \"Sunday/Holiday\", \"Weekday\"]\n",
    "width = 0.4\n",
    "x = np.arange(len(labels)) \n",
    "fig, ax = plt.subplots()\n",
    "rects1 = ax.bar(x - width/2,team1_df, width, label=team1_name, color = \"black\")\n",
    "rects2 = ax.bar(x + width/2,team2_df, width, label=team2_name, color=\"red\")\n",
    "ax.set_xticks(x)\n",
    "ax.set_xticklabels(labels)\n",
    "\n",
    "# Bar values\n",
    "def autolabel(rects):\n",
    "    \"\"\"Attach a text label above each bar in *rects*, displaying its height.\"\"\"\n",
    "    for rect in rects:\n",
    "        height = rect.get_height()\n",
    "        ax.annotate('{}'.format(height),\n",
    "                    xy=(rect.get_x() + rect.get_width() / 2, height),\n",
    "                    xytext=(0, 3),  # 3 points vertical offset\n",
    "                    textcoords=\"offset points\",\n",
    "                    ha='center', va='bottom')\n",
    "autolabel(rects1)\n",
    "autolabel(rects2)\n",
    "\n",
    "# labels\n",
    "plt.title(\"Average CTA Ridership by Daytype: Blackhawks v Bulls\")\n",
    "plt.ylabel(\"Average Ridership\")\n",
    "plt.xlabel(\"Daytype\", labelpad=10)\n",
    "plt.ylim(0,3000)\n",
    "plt.legend(loc = 2)\n",
    "plt.show()"
   ]
  },
  {
   "cell_type": "markdown",
   "metadata": {},
   "source": [
    "## Boxplot & Anova Model\n",
    "* Used variables to quickly generate charts for different teams\n",
    "* Check if the difference between the means are statistically significant"
   ]
  },
  {
   "cell_type": "code",
   "execution_count": 14,
   "metadata": {},
   "outputs": [
    {
     "data": {
      "image/png": "[encoded data removed]",
      "text/plain": [
       "<Figure size 432x288 with 1 Axes>"
      ]
     },
     "metadata": {
      "needs_background": "light"
     },
     "output_type": "display_data"
    },
    {
     "data": {
      "image/png": "[encoded data removed]",
      "text/plain": [
       "<Figure size 432x288 with 1 Axes>"
      ]
     },
     "metadata": {
      "needs_background": "light"
     },
     "output_type": "display_data"
    },
    {
     "data": {
      "image/png": "[encoded data removed]",
      "text/plain": [
       "<Figure size 432x288 with 1 Axes>"
      ]
     },
     "metadata": {
      "needs_background": "light"
     },
     "output_type": "display_data"
    }
   ],
   "source": [
    "boxplot_team = \"Bulls\"\n",
    "# Rename values for boxplots\n",
    "boxplot_df = uc_stations_data.copy()\n",
    "boxplot_df.loc[(boxplot_df[\"daytype\"] == \"A\"), \"daytype\"] = \"Saturday\"\n",
    "boxplot_df.loc[(boxplot_df[\"daytype\"] == \"U\"), \"daytype\"] = \"Sunday/Holiday\"\n",
    "boxplot_df.loc[(boxplot_df[\"daytype\"] == \"W\"), \"daytype\"] = \"Weekday\"\n",
    "boxplot_df.loc[(boxplot_df[boxplot_team] == True), boxplot_team] = \"Game\"\n",
    "boxplot_df.loc[(boxplot_df[boxplot_team] == False), boxplot_team] = \"No Game\"\n",
    "\n",
    "# Filter for each boxplot\n",
    "saturday_df = boxplot_df[boxplot_df[\"daytype\"]== \"Saturday\"]\n",
    "sunday_df = boxplot_df[boxplot_df[\"daytype\"]== \"Sunday/Holiday\"]\n",
    "weekday_df = boxplot_df[boxplot_df[\"daytype\"]== \"Weekday\"]\n",
    "\n",
    "\n",
    "# Outlier format\n",
    "red_square = dict(markerfacecolor='r', marker='D')\n",
    "\n",
    "saturday_df.boxplot(\"rides\", by=[\"daytype\", boxplot_team],flierprops=red_square)\n",
    "# Get rid of auto generated title\n",
    "plt.suptitle('')\n",
    "# Add labels & format\n",
    "plt.title(f\"Boxplot Grouped by Daytype & Game Status: {boxplot_team}\")\n",
    "plt.xlabel(\"Weekday Types by Game Status\", labelpad=10)\n",
    "plt.ylabel(\"Average Ridership\")\n",
    "plt.ylim(0,max(saturday_df[\"rides\"])+1000)\n",
    "\n",
    "\n",
    "sunday_df.boxplot(\"rides\", by=[\"daytype\", boxplot_team],flierprops=red_square)\n",
    "# Get rid of auto generated title\n",
    "plt.suptitle('')\n",
    "# Add labels & format\n",
    "plt.title(f\"Boxplot Grouped by Daytype & Game Status: {boxplot_team}\")\n",
    "plt.xlabel(\"Weekday Types by Game Status\", labelpad=10)\n",
    "plt.ylabel(\"Average Ridership\")\n",
    "plt.ylim(0,max(sunday_df[\"rides\"])+1000)\n",
    "\n",
    "\n",
    "weekday_df.boxplot(\"rides\", by=[\"daytype\", boxplot_team],flierprops=red_square)\n",
    "# Get rid of auto generated title\n",
    "plt.suptitle('')\n",
    "# Add labels & format\n",
    "plt.title(f\"Boxplot Grouped by Daytype & Game Status: {boxplot_team}\")\n",
    "plt.xlabel(\"Weekday Types by Game Status\", labelpad=10)\n",
    "plt.ylabel(\"Average Ridership\")\n",
    "plt.ylim(0,max(weekday_df[\"rides\"])+1000)\n",
    "\n",
    "plt.show()"
   ]
  },
  {
   "cell_type": "markdown",
   "metadata": {},
   "source": [
    "## ANOVA calculation to compare means"
   ]
  },
  {
   "cell_type": "code",
   "execution_count": 31,
   "metadata": {},
   "outputs": [
    {
     "name": "stdout",
     "output_type": "stream",
     "text": [
      "\n",
      "Team: Bulls \n",
      "Saturday: F_onewayResult(statistic=3.8890214719567497, pvalue=0.049312564058412535)\n",
      "  Sunday: F_onewayResult(statistic=0.08110067027003401, pvalue=0.7759471601159668)\n",
      "  Weekday: F_onewayResult(statistic=35.80801322771537, pvalue=2.5937901182414625e-09)\n",
      "  \n"
     ]
    }
   ],
   "source": [
    "# Team variable\n",
    "anova_team = \"Bulls\"\n",
    "\n",
    "# Dataframe formatting \n",
    "sat_game = boxplot_df[(boxplot_df[\"daytype\"] == \"Saturday\")&(boxplot_df[anova_team]==\"Game\")][\"rides\"]\n",
    "sat_no_game = boxplot_df[(boxplot_df[\"daytype\"] == \"Saturday\")&(boxplot_df[anova_team]==\"No Game\")][\"rides\"]\n",
    "sun_game = boxplot_df[(boxplot_df[\"daytype\"] == \"Sunday/Holiday\")&(boxplot_df[anova_team]==\"Game\")][\"rides\"]\n",
    "sun_no_game = boxplot_df[(boxplot_df[\"daytype\"] == \"Sunday/Holiday\")&(boxplot_df[anova_team]==\"No Game\")][\"rides\"]\n",
    "weekday_game = boxplot_df[(boxplot_df[\"daytype\"] == \"Weekday\")&(boxplot_df[anova_team]==\"Game\")][\"rides\"]\n",
    "weekday_no_game = boxplot_df[(boxplot_df[\"daytype\"] == \"Weekday\")&(boxplot_df[anova_team]==\"No Game\")][\"rides\"]\n",
    "\n",
    "# Anova statistic to detect statistical difference\n",
    "saturday = stats.f_oneway(sat_game,sat_no_game)\n",
    "sunday = stats.f_oneway(sun_game, sun_no_game)\n",
    "weekday = stats.f_oneway(weekday_game, weekday_no_game)\n",
    "print(f'''\n",
    "Team: {anova_team} \n",
    "Saturday: {saturday}\n",
    "  Sunday: {sunday}\n",
    "  Weekday: {weekday}\n",
    "  ''')"
   ]
  }
 ],
 "metadata": {
  "kernelspec": {
   "display_name": "PythonEnv",
   "language": "python",
   "name": "pythonenv"
  },
  "language_info": {
   "codemirror_mode": {
    "name": "ipython",
    "version": 3
   },
   "file_extension": ".py",
   "mimetype": "text/x-python",
   "name": "python",
   "nbconvert_exporter": "python",
   "pygments_lexer": "ipython3",
   "version": "3.8.5"
  }
 },
 "nbformat": 4,
 "nbformat_minor": 4
}
