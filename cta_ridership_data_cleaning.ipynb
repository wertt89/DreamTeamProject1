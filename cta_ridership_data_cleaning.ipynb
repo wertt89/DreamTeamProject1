{
 "cells": [
  {
   "cell_type": "code",
   "execution_count": null,
   "metadata": {},
   "outputs": [],
   "source": [
    "import os\n",
    "import pandas as pd\n",
    "\n",
    "# File path\n",
    "cta_file = os.path.join(\"cta_ridership.csv\")\n",
    "teams_file = os.path.join(\"Team Schedules/MergedTeamSchedules2.csv\")\n",
    "\n",
    "\n",
    "# Read files\n",
    "cta_raw = pd.read_csv(cta_file)\n",
    "teams_raw = pd.read_csv(teams_file)\n",
    "\n",
    "cta_raw.sort_values(\"date\")"
   ]
  },
  {
   "cell_type": "code",
   "execution_count": null,
   "metadata": {},
   "outputs": [],
   "source": [
    "# Convert string date to datetime\n",
    "teams_raw.rename(columns={\"Date\":\"date\"},inplace=True)\n",
    "teams_raw[\"date\"] = pd.to_datetime(teams_raw[\"date\"],format=\"%m/%d/%y\")\n",
    "cta_raw[\"date\"] = pd.to_datetime(cta_raw[\"date\"],format=\"%m/%d/%Y\")\n",
    "cta_raw.shape"
   ]
  },
  {
   "cell_type": "code",
   "execution_count": null,
   "metadata": {
    "scrolled": false
   },
   "outputs": [],
   "source": [
    "# delete unwanted rows in each dataset\n",
    "merge_df = cta_raw.merge(teams_raw, on=\"date\", how=\"left\")\n",
    "merge_df"
   ]
  },
  {
   "cell_type": "code",
   "execution_count": null,
   "metadata": {},
   "outputs": [],
   "source": [
    "merge_df.fillna(value=False, inplace=True)\n",
    "merge_df = merge_df[(merge_df[\"date\"] > \"2016-12-31\")]\n",
    "merge_df.sort_values([\"date\"])[\"date\"].nunique()"
   ]
  },
  {
   "cell_type": "code",
   "execution_count": null,
   "metadata": {},
   "outputs": [],
   "source": [
    "merge_df.to_csv(\"clean_df.csv\")"
   ]
  }
 ],
 "metadata": {
  "kernelspec": {
   "display_name": "PythonEnv",
   "language": "python",
   "name": "pythonenv"
  },
  "language_info": {
   "codemirror_mode": {
    "name": "ipython",
    "version": 3
   },
   "file_extension": ".py",
   "mimetype": "text/x-python",
   "name": "python",
   "nbconvert_exporter": "python",
   "pygments_lexer": "ipython3",
   "version": "3.8.5"
  }
 },
 "nbformat": 4,
 "nbformat_minor": 4
}
